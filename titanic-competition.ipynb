{
 "cells": [
  {
   "cell_type": "code",
   "execution_count": 1,
   "id": "95167f14",
   "metadata": {
    "_cell_guid": "b1076dfc-b9ad-4769-8c92-a6c4dae69d19",
    "_uuid": "8f2839f25d086af736a60e9eeb907d3b93b6e0e5",
    "execution": {
     "iopub.execute_input": "2023-12-25T17:21:08.747842Z",
     "iopub.status.busy": "2023-12-25T17:21:08.747214Z",
     "iopub.status.idle": "2023-12-25T17:21:11.487164Z",
     "shell.execute_reply": "2023-12-25T17:21:11.486225Z"
    },
    "papermill": {
     "duration": 2.754051,
     "end_time": "2023-12-25T17:21:11.489212",
     "exception": false,
     "start_time": "2023-12-25T17:21:08.735161",
     "status": "completed"
    },
    "tags": []
   },
   "outputs": [
    {
     "name": "stderr",
     "output_type": "stream",
     "text": [
      "/opt/conda/lib/python3.10/site-packages/scipy/__init__.py:146: UserWarning: A NumPy version >=1.16.5 and <1.23.0 is required for this version of SciPy (detected version 1.24.3\n",
      "  warnings.warn(f\"A NumPy version >={np_minversion} and <{np_maxversion}\"\n"
     ]
    },
    {
     "name": "stdout",
     "output_type": "stream",
     "text": [
      "/kaggle/input/titanic/train.csv\n",
      "/kaggle/input/titanic/test.csv\n",
      "/kaggle/input/titanic/gender_submission.csv\n"
     ]
    }
   ],
   "source": [
    "# This Python 3 environment comes with many helpful analytics libraries installed\n",
    "# It is defined by the kaggle/python Docker image: https://github.com/kaggle/docker-python\n",
    "# For example, here's several helpful packages to load\n",
    "\n",
    "import numpy as np # linear algebra\n",
    "import pandas as pd # data processing, CSV file I/O (e.g. pd.read_csv)\n",
    "import matplotlib.pyplot as plt\n",
    "import seaborn as sns\n",
    "\n",
    "# Input data files are available in the read-only \"../input/\" directory\n",
    "# For example, running this (by clicking run or pressing Shift+Enter) will list all files under the input directory\n",
    "\n",
    "import os\n",
    "for dirname, _, filenames in os.walk('/kaggle/input'):\n",
    "    for filename in filenames:\n",
    "        print(os.path.join(dirname, filename))\n",
    "\n",
    "# You can write up to 20GB to the current directory (/kaggle/working/) that gets preserved as output when you create a version using \"Save & Run All\" \n",
    "# You can also write temporary files to /kaggle/temp/, but they won't be saved outside of the current session"
   ]
  },
  {
   "cell_type": "code",
   "execution_count": 2,
   "id": "730b2943",
   "metadata": {
    "execution": {
     "iopub.execute_input": "2023-12-25T17:21:11.512074Z",
     "iopub.status.busy": "2023-12-25T17:21:11.511323Z",
     "iopub.status.idle": "2023-12-25T17:21:11.567959Z",
     "shell.execute_reply": "2023-12-25T17:21:11.567128Z"
    },
    "papermill": {
     "duration": 0.069903,
     "end_time": "2023-12-25T17:21:11.569963",
     "exception": false,
     "start_time": "2023-12-25T17:21:11.500060",
     "status": "completed"
    },
    "tags": []
   },
   "outputs": [],
   "source": [
    "#downloading the data\n",
    "train_data = pd.read_csv(\"/kaggle/input/titanic/train.csv\")\n",
    "train_data.head()\n",
    "train_data['train_test'] = 1\n",
    "test_data = pd.read_csv(\"/kaggle/input/titanic/test.csv\")\n",
    "test_data[\"train_test\"] = 0\n",
    "all_data = pd.concat([train_data, test_data], axis=0)"
   ]
  },
  {
   "cell_type": "markdown",
   "id": "73f4138b",
   "metadata": {
    "papermill": {
     "duration": 0.010127,
     "end_time": "2023-12-25T17:21:11.590490",
     "exception": false,
     "start_time": "2023-12-25T17:21:11.580363",
     "status": "completed"
    },
    "tags": []
   },
   "source": [
    "## EDA"
   ]
  },
  {
   "cell_type": "code",
   "execution_count": 3,
   "id": "20a7ea08",
   "metadata": {
    "execution": {
     "iopub.execute_input": "2023-12-25T17:21:11.612239Z",
     "iopub.status.busy": "2023-12-25T17:21:11.611971Z",
     "iopub.status.idle": "2023-12-25T17:21:11.630862Z",
     "shell.execute_reply": "2023-12-25T17:21:11.629913Z"
    },
    "papermill": {
     "duration": 0.032026,
     "end_time": "2023-12-25T17:21:11.632814",
     "exception": false,
     "start_time": "2023-12-25T17:21:11.600788",
     "status": "completed"
    },
    "tags": []
   },
   "outputs": [
    {
     "name": "stdout",
     "output_type": "stream",
     "text": [
      "<class 'pandas.core.frame.DataFrame'>\n",
      "RangeIndex: 891 entries, 0 to 890\n",
      "Data columns (total 13 columns):\n",
      " #   Column       Non-Null Count  Dtype  \n",
      "---  ------       --------------  -----  \n",
      " 0   PassengerId  891 non-null    int64  \n",
      " 1   Survived     891 non-null    int64  \n",
      " 2   Pclass       891 non-null    int64  \n",
      " 3   Name         891 non-null    object \n",
      " 4   Sex          891 non-null    object \n",
      " 5   Age          714 non-null    float64\n",
      " 6   SibSp        891 non-null    int64  \n",
      " 7   Parch        891 non-null    int64  \n",
      " 8   Ticket       891 non-null    object \n",
      " 9   Fare         891 non-null    float64\n",
      " 10  Cabin        204 non-null    object \n",
      " 11  Embarked     889 non-null    object \n",
      " 12  train_test   891 non-null    int64  \n",
      "dtypes: float64(2), int64(6), object(5)\n",
      "memory usage: 90.6+ KB\n"
     ]
    }
   ],
   "source": [
    "train_data.info()"
   ]
  },
  {
   "cell_type": "code",
   "execution_count": 4,
   "id": "03aed86b",
   "metadata": {
    "execution": {
     "iopub.execute_input": "2023-12-25T17:21:11.655472Z",
     "iopub.status.busy": "2023-12-25T17:21:11.655206Z",
     "iopub.status.idle": "2023-12-25T17:21:11.689117Z",
     "shell.execute_reply": "2023-12-25T17:21:11.688282Z"
    },
    "papermill": {
     "duration": 0.047494,
     "end_time": "2023-12-25T17:21:11.690981",
     "exception": false,
     "start_time": "2023-12-25T17:21:11.643487",
     "status": "completed"
    },
    "tags": []
   },
   "outputs": [
    {
     "data": {
      "text/html": [
       "<div>\n",
       "<style scoped>\n",
       "    .dataframe tbody tr th:only-of-type {\n",
       "        vertical-align: middle;\n",
       "    }\n",
       "\n",
       "    .dataframe tbody tr th {\n",
       "        vertical-align: top;\n",
       "    }\n",
       "\n",
       "    .dataframe thead th {\n",
       "        text-align: right;\n",
       "    }\n",
       "</style>\n",
       "<table border=\"1\" class=\"dataframe\">\n",
       "  <thead>\n",
       "    <tr style=\"text-align: right;\">\n",
       "      <th></th>\n",
       "      <th>PassengerId</th>\n",
       "      <th>Survived</th>\n",
       "      <th>Pclass</th>\n",
       "      <th>Age</th>\n",
       "      <th>SibSp</th>\n",
       "      <th>Parch</th>\n",
       "      <th>Fare</th>\n",
       "      <th>train_test</th>\n",
       "    </tr>\n",
       "  </thead>\n",
       "  <tbody>\n",
       "    <tr>\n",
       "      <th>count</th>\n",
       "      <td>891.000000</td>\n",
       "      <td>891.000000</td>\n",
       "      <td>891.000000</td>\n",
       "      <td>714.000000</td>\n",
       "      <td>891.000000</td>\n",
       "      <td>891.000000</td>\n",
       "      <td>891.000000</td>\n",
       "      <td>891.0</td>\n",
       "    </tr>\n",
       "    <tr>\n",
       "      <th>mean</th>\n",
       "      <td>446.000000</td>\n",
       "      <td>0.383838</td>\n",
       "      <td>2.308642</td>\n",
       "      <td>29.699118</td>\n",
       "      <td>0.523008</td>\n",
       "      <td>0.381594</td>\n",
       "      <td>32.204208</td>\n",
       "      <td>1.0</td>\n",
       "    </tr>\n",
       "    <tr>\n",
       "      <th>std</th>\n",
       "      <td>257.353842</td>\n",
       "      <td>0.486592</td>\n",
       "      <td>0.836071</td>\n",
       "      <td>14.526497</td>\n",
       "      <td>1.102743</td>\n",
       "      <td>0.806057</td>\n",
       "      <td>49.693429</td>\n",
       "      <td>0.0</td>\n",
       "    </tr>\n",
       "    <tr>\n",
       "      <th>min</th>\n",
       "      <td>1.000000</td>\n",
       "      <td>0.000000</td>\n",
       "      <td>1.000000</td>\n",
       "      <td>0.420000</td>\n",
       "      <td>0.000000</td>\n",
       "      <td>0.000000</td>\n",
       "      <td>0.000000</td>\n",
       "      <td>1.0</td>\n",
       "    </tr>\n",
       "    <tr>\n",
       "      <th>25%</th>\n",
       "      <td>223.500000</td>\n",
       "      <td>0.000000</td>\n",
       "      <td>2.000000</td>\n",
       "      <td>20.125000</td>\n",
       "      <td>0.000000</td>\n",
       "      <td>0.000000</td>\n",
       "      <td>7.910400</td>\n",
       "      <td>1.0</td>\n",
       "    </tr>\n",
       "    <tr>\n",
       "      <th>50%</th>\n",
       "      <td>446.000000</td>\n",
       "      <td>0.000000</td>\n",
       "      <td>3.000000</td>\n",
       "      <td>28.000000</td>\n",
       "      <td>0.000000</td>\n",
       "      <td>0.000000</td>\n",
       "      <td>14.454200</td>\n",
       "      <td>1.0</td>\n",
       "    </tr>\n",
       "    <tr>\n",
       "      <th>75%</th>\n",
       "      <td>668.500000</td>\n",
       "      <td>1.000000</td>\n",
       "      <td>3.000000</td>\n",
       "      <td>38.000000</td>\n",
       "      <td>1.000000</td>\n",
       "      <td>0.000000</td>\n",
       "      <td>31.000000</td>\n",
       "      <td>1.0</td>\n",
       "    </tr>\n",
       "    <tr>\n",
       "      <th>max</th>\n",
       "      <td>891.000000</td>\n",
       "      <td>1.000000</td>\n",
       "      <td>3.000000</td>\n",
       "      <td>80.000000</td>\n",
       "      <td>8.000000</td>\n",
       "      <td>6.000000</td>\n",
       "      <td>512.329200</td>\n",
       "      <td>1.0</td>\n",
       "    </tr>\n",
       "  </tbody>\n",
       "</table>\n",
       "</div>"
      ],
      "text/plain": [
       "       PassengerId    Survived      Pclass         Age       SibSp  \\\n",
       "count   891.000000  891.000000  891.000000  714.000000  891.000000   \n",
       "mean    446.000000    0.383838    2.308642   29.699118    0.523008   \n",
       "std     257.353842    0.486592    0.836071   14.526497    1.102743   \n",
       "min       1.000000    0.000000    1.000000    0.420000    0.000000   \n",
       "25%     223.500000    0.000000    2.000000   20.125000    0.000000   \n",
       "50%     446.000000    0.000000    3.000000   28.000000    0.000000   \n",
       "75%     668.500000    1.000000    3.000000   38.000000    1.000000   \n",
       "max     891.000000    1.000000    3.000000   80.000000    8.000000   \n",
       "\n",
       "            Parch        Fare  train_test  \n",
       "count  891.000000  891.000000       891.0  \n",
       "mean     0.381594   32.204208         1.0  \n",
       "std      0.806057   49.693429         0.0  \n",
       "min      0.000000    0.000000         1.0  \n",
       "25%      0.000000    7.910400         1.0  \n",
       "50%      0.000000   14.454200         1.0  \n",
       "75%      0.000000   31.000000         1.0  \n",
       "max      6.000000  512.329200         1.0  "
      ]
     },
     "execution_count": 4,
     "metadata": {},
     "output_type": "execute_result"
    }
   ],
   "source": [
    "train_data.describe()"
   ]
  },
  {
   "cell_type": "code",
   "execution_count": 5,
   "id": "052a7a9b",
   "metadata": {
    "execution": {
     "iopub.execute_input": "2023-12-25T17:21:11.713671Z",
     "iopub.status.busy": "2023-12-25T17:21:11.713391Z",
     "iopub.status.idle": "2023-12-25T17:21:11.720678Z",
     "shell.execute_reply": "2023-12-25T17:21:11.719910Z"
    },
    "papermill": {
     "duration": 0.021064,
     "end_time": "2023-12-25T17:21:11.722883",
     "exception": false,
     "start_time": "2023-12-25T17:21:11.701819",
     "status": "completed"
    },
    "tags": []
   },
   "outputs": [],
   "source": [
    "df_num = train_data[[\"Age\", \"SibSp\", \"Parch\", \"Fare\"]]\n",
    "df_cat = train_data[[\"Survived\",\"Pclass\", \"Sex\", \"Ticket\", \"Cabin\", \"Embarked\"]]"
   ]
  },
  {
   "cell_type": "code",
   "execution_count": 6,
   "id": "d629cd59",
   "metadata": {
    "execution": {
     "iopub.execute_input": "2023-12-25T17:21:11.745898Z",
     "iopub.status.busy": "2023-12-25T17:21:11.745661Z",
     "iopub.status.idle": "2023-12-25T17:21:12.874864Z",
     "shell.execute_reply": "2023-12-25T17:21:12.874058Z"
    },
    "papermill": {
     "duration": 1.142517,
     "end_time": "2023-12-25T17:21:12.876628",
     "exception": false,
     "start_time": "2023-12-25T17:21:11.734111",
     "status": "completed"
    },
    "tags": []
   },
   "outputs": [
    {
     "data": {
      "image/png": "[encoded data removed]",
      "text/plain": [
       "<Figure size 640x480 with 1 Axes>"
      ]
     },
     "metadata": {},
     "output_type": "display_data"
    },
    {
     "data": {
      "image/png": "[encoded data removed]",
      "text/plain": [
       "<Figure size 640x480 with 1 Axes>"
      ]
     },
     "metadata": {},
     "output_type": "display_data"
    },
    {
     "data": {
      "image/png": "[encoded data removed]",
      "text/plain": [
       "<Figure size 640x480 with 1 Axes>"
      ]
     },
     "metadata": {},
     "output_type": "display_data"
    },
    {
     "data": {
      "image/png": "[encoded data removed]",
      "text/plain": [
       "<Figure size 640x480 with 1 Axes>"
      ]
     },
     "metadata": {},
     "output_type": "display_data"
    }
   ],
   "source": [
    "for i in df_num.columns:\n",
    "    plt.hist(df_num[i])\n",
    "    plt.title(i)\n",
    "    plt.show()"
   ]
  },
  {
   "cell_type": "code",
   "execution_count": 7,
   "id": "48a28891",
   "metadata": {
    "execution": {
     "iopub.execute_input": "2023-12-25T17:21:12.901882Z",
     "iopub.status.busy": "2023-12-25T17:21:12.901601Z",
     "iopub.status.idle": "2023-12-25T17:21:12.911602Z",
     "shell.execute_reply": "2023-12-25T17:21:12.910307Z"
    },
    "papermill": {
     "duration": 0.024806,
     "end_time": "2023-12-25T17:21:12.913657",
     "exception": false,
     "start_time": "2023-12-25T17:21:12.888851",
     "status": "completed"
    },
    "tags": []
   },
   "outputs": [
    {
     "name": "stdout",
     "output_type": "stream",
     "text": [
      "            Age     SibSp     Parch      Fare\n",
      "Age    1.000000 -0.308247 -0.189119  0.096067\n",
      "SibSp -0.308247  1.000000  0.414838  0.159651\n",
      "Parch -0.189119  0.414838  1.000000  0.216225\n",
      "Fare   0.096067  0.159651  0.216225  1.000000\n"
     ]
    }
   ],
   "source": [
    "print(df_num.corr())"
   ]
  },
  {
   "cell_type": "code",
   "execution_count": 8,
   "id": "c27e44ff",
   "metadata": {
    "execution": {
     "iopub.execute_input": "2023-12-25T17:21:12.938748Z",
     "iopub.status.busy": "2023-12-25T17:21:12.938480Z",
     "iopub.status.idle": "2023-12-25T17:21:12.959349Z",
     "shell.execute_reply": "2023-12-25T17:21:12.958591Z"
    },
    "papermill": {
     "duration": 0.035357,
     "end_time": "2023-12-25T17:21:12.961192",
     "exception": false,
     "start_time": "2023-12-25T17:21:12.925835",
     "status": "completed"
    },
    "tags": []
   },
   "outputs": [
    {
     "data": {
      "text/html": [
       "<div>\n",
       "<style scoped>\n",
       "    .dataframe tbody tr th:only-of-type {\n",
       "        vertical-align: middle;\n",
       "    }\n",
       "\n",
       "    .dataframe tbody tr th {\n",
       "        vertical-align: top;\n",
       "    }\n",
       "\n",
       "    .dataframe thead th {\n",
       "        text-align: right;\n",
       "    }\n",
       "</style>\n",
       "<table border=\"1\" class=\"dataframe\">\n",
       "  <thead>\n",
       "    <tr style=\"text-align: right;\">\n",
       "      <th></th>\n",
       "      <th>Age</th>\n",
       "      <th>Fare</th>\n",
       "      <th>Parch</th>\n",
       "      <th>SibSp</th>\n",
       "    </tr>\n",
       "    <tr>\n",
       "      <th>Survived</th>\n",
       "      <th></th>\n",
       "      <th></th>\n",
       "      <th></th>\n",
       "      <th></th>\n",
       "    </tr>\n",
       "  </thead>\n",
       "  <tbody>\n",
       "    <tr>\n",
       "      <th>0</th>\n",
       "      <td>30.626179</td>\n",
       "      <td>22.117887</td>\n",
       "      <td>0.329690</td>\n",
       "      <td>0.553734</td>\n",
       "    </tr>\n",
       "    <tr>\n",
       "      <th>1</th>\n",
       "      <td>28.343690</td>\n",
       "      <td>48.395408</td>\n",
       "      <td>0.464912</td>\n",
       "      <td>0.473684</td>\n",
       "    </tr>\n",
       "  </tbody>\n",
       "</table>\n",
       "</div>"
      ],
      "text/plain": [
       "                Age       Fare     Parch     SibSp\n",
       "Survived                                          \n",
       "0         30.626179  22.117887  0.329690  0.553734\n",
       "1         28.343690  48.395408  0.464912  0.473684"
      ]
     },
     "execution_count": 8,
     "metadata": {},
     "output_type": "execute_result"
    }
   ],
   "source": [
    "pd.pivot_table(train_data, index = \"Survived\", values = [\"Age\", \"SibSp\", \"Parch\", \"Fare\"])"
   ]
  },
  {
   "cell_type": "code",
   "execution_count": 9,
   "id": "434f58ea",
   "metadata": {
    "execution": {
     "iopub.execute_input": "2023-12-25T17:21:12.986659Z",
     "iopub.status.busy": "2023-12-25T17:21:12.986375Z",
     "iopub.status.idle": "2023-12-25T17:21:26.174612Z",
     "shell.execute_reply": "2023-12-25T17:21:26.173663Z"
    },
    "papermill": {
     "duration": 13.203334,
     "end_time": "2023-12-25T17:21:26.176846",
     "exception": false,
     "start_time": "2023-12-25T17:21:12.973512",
     "status": "completed"
    },
    "tags": []
   },
   "outputs": [
    {
     "data": {
      "image/png": "[encoded data removed]",
      "text/plain": [
       "<Figure size 640x480 with 1 Axes>"
      ]
     },
     "metadata": {},
     "output_type": "display_data"
    },
    {
     "data": {
      "image/png": "[encoded data removed]",
      "text/plain": [
       "<Figure size 640x480 with 1 Axes>"
      ]
     },
     "metadata": {},
     "output_type": "display_data"
    },
    {
     "data": {
      "image/png": "[encoded data removed]",
      "text/plain": [
       "<Figure size 640x480 with 1 Axes>"
      ]
     },
     "metadata": {},
     "output_type": "display_data"
    },
    {
     "data": {
      "image/png": "[encoded data removed]",
      "text/plain": [
       "<Figure size 640x480 with 1 Axes>"
      ]
     },
     "metadata": {},
     "output_type": "display_data"
    },
    {
     "data": {
      "image/png": "[encoded data removed]",
      "text/plain": [
       "<Figure size 640x480 with 1 Axes>"
      ]
     },
     "metadata": {},
     "output_type": "display_data"
    },
    {
     "data": {
      "image/png": "[encoded data removed]",
      "text/plain": [
       "<Figure size 640x480 with 1 Axes>"
      ]
     },
     "metadata": {},
     "output_type": "display_data"
    }
   ],
   "source": [
    "for i in df_cat.columns:\n",
    "    sns.barplot(data = df_cat, x = i, y = \"Survived\").set_title(i)\n",
    "    plt.show()"
   ]
  },
  {
   "cell_type": "code",
   "execution_count": 10,
   "id": "07d237f0",
   "metadata": {
    "execution": {
     "iopub.execute_input": "2023-12-25T17:21:26.206405Z",
     "iopub.status.busy": "2023-12-25T17:21:26.205799Z",
     "iopub.status.idle": "2023-12-25T17:21:26.237002Z",
     "shell.execute_reply": "2023-12-25T17:21:26.235960Z"
    },
    "papermill": {
     "duration": 0.047849,
     "end_time": "2023-12-25T17:21:26.238872",
     "exception": false,
     "start_time": "2023-12-25T17:21:26.191023",
     "status": "completed"
    },
    "tags": []
   },
   "outputs": [
    {
     "name": "stdout",
     "output_type": "stream",
     "text": [
      "Pclass      1   2    3\n",
      "Survived              \n",
      "0          80  97  372\n",
      "1         136  87  119\n",
      "Sex       female  male\n",
      "Survived              \n",
      "0             81   468\n",
      "1            233   109\n",
      "Embarked   C   Q    S\n",
      "Survived             \n",
      "0         75  47  427\n",
      "1         93  30  217\n"
     ]
    }
   ],
   "source": [
    "print(pd.pivot_table(train_data, index = \"Survived\", columns = \"Pclass\", values = \"Ticket\", aggfunc = 'count'))\n",
    "print(pd.pivot_table(train_data, index = \"Survived\", columns = \"Sex\", values = \"Ticket\", aggfunc = 'count'))\n",
    "print(pd.pivot_table(train_data, index = \"Survived\", columns = \"Embarked\", values = \"Ticket\", aggfunc = 'count'))"
   ]
  },
  {
   "cell_type": "markdown",
   "id": "7f4bc659",
   "metadata": {
    "papermill": {
     "duration": 0.013823,
     "end_time": "2023-12-25T17:21:26.266528",
     "exception": false,
     "start_time": "2023-12-25T17:21:26.252705",
     "status": "completed"
    },
    "tags": []
   },
   "source": [
    "## Feature Engineering"
   ]
  },
  {
   "cell_type": "code",
   "execution_count": 11,
   "id": "0534e319",
   "metadata": {
    "execution": {
     "iopub.execute_input": "2023-12-25T17:21:26.295433Z",
     "iopub.status.busy": "2023-12-25T17:21:26.294954Z",
     "iopub.status.idle": "2023-12-25T17:21:26.305798Z",
     "shell.execute_reply": "2023-12-25T17:21:26.304950Z"
    },
    "papermill": {
     "duration": 0.027369,
     "end_time": "2023-12-25T17:21:26.307708",
     "exception": false,
     "start_time": "2023-12-25T17:21:26.280339",
     "status": "completed"
    },
    "tags": []
   },
   "outputs": [
    {
     "data": {
      "text/plain": [
       "cabin_multipl\n",
       "0    687\n",
       "1    180\n",
       "2     16\n",
       "3      6\n",
       "4      2\n",
       "Name: count, dtype: int64"
      ]
     },
     "execution_count": 11,
     "metadata": {},
     "output_type": "execute_result"
    }
   ],
   "source": [
    "df_cat.Cabin\n",
    "train_data['cabin_multipl'] = train_data.Cabin.apply(lambda x: 0 if pd.isna(x) else len(x.split(' ')))\n",
    "train_data['cabin_multipl'].value_counts()\n"
   ]
  },
  {
   "cell_type": "code",
   "execution_count": 12,
   "id": "ddc22d57",
   "metadata": {
    "execution": {
     "iopub.execute_input": "2023-12-25T17:21:26.377468Z",
     "iopub.status.busy": "2023-12-25T17:21:26.376828Z",
     "iopub.status.idle": "2023-12-25T17:21:26.399018Z",
     "shell.execute_reply": "2023-12-25T17:21:26.398119Z"
    },
    "papermill": {
     "duration": 0.039371,
     "end_time": "2023-12-25T17:21:26.400995",
     "exception": false,
     "start_time": "2023-12-25T17:21:26.361624",
     "status": "completed"
    },
    "tags": []
   },
   "outputs": [
    {
     "name": "stdout",
     "output_type": "stream",
     "text": [
      "cabin_adv\n",
      "n    687\n",
      "C     59\n",
      "B     47\n",
      "D     33\n",
      "E     32\n",
      "A     15\n",
      "F     13\n",
      "G      4\n",
      "T      1\n",
      "Name: count, dtype: int64\n"
     ]
    },
    {
     "data": {
      "text/html": [
       "<div>\n",
       "<style scoped>\n",
       "    .dataframe tbody tr th:only-of-type {\n",
       "        vertical-align: middle;\n",
       "    }\n",
       "\n",
       "    .dataframe tbody tr th {\n",
       "        vertical-align: top;\n",
       "    }\n",
       "\n",
       "    .dataframe thead th {\n",
       "        text-align: right;\n",
       "    }\n",
       "</style>\n",
       "<table border=\"1\" class=\"dataframe\">\n",
       "  <thead>\n",
       "    <tr style=\"text-align: right;\">\n",
       "      <th>cabin_adv</th>\n",
       "      <th>A</th>\n",
       "      <th>B</th>\n",
       "      <th>C</th>\n",
       "      <th>D</th>\n",
       "      <th>E</th>\n",
       "      <th>F</th>\n",
       "      <th>G</th>\n",
       "      <th>T</th>\n",
       "      <th>n</th>\n",
       "    </tr>\n",
       "    <tr>\n",
       "      <th>Survived</th>\n",
       "      <th></th>\n",
       "      <th></th>\n",
       "      <th></th>\n",
       "      <th></th>\n",
       "      <th></th>\n",
       "      <th></th>\n",
       "      <th></th>\n",
       "      <th></th>\n",
       "      <th></th>\n",
       "    </tr>\n",
       "  </thead>\n",
       "  <tbody>\n",
       "    <tr>\n",
       "      <th>0</th>\n",
       "      <td>8.0</td>\n",
       "      <td>12.0</td>\n",
       "      <td>24.0</td>\n",
       "      <td>8.0</td>\n",
       "      <td>8.0</td>\n",
       "      <td>5.0</td>\n",
       "      <td>2.0</td>\n",
       "      <td>1.0</td>\n",
       "      <td>481.0</td>\n",
       "    </tr>\n",
       "    <tr>\n",
       "      <th>1</th>\n",
       "      <td>7.0</td>\n",
       "      <td>35.0</td>\n",
       "      <td>35.0</td>\n",
       "      <td>25.0</td>\n",
       "      <td>24.0</td>\n",
       "      <td>8.0</td>\n",
       "      <td>2.0</td>\n",
       "      <td>NaN</td>\n",
       "      <td>206.0</td>\n",
       "    </tr>\n",
       "  </tbody>\n",
       "</table>\n",
       "</div>"
      ],
      "text/plain": [
       "cabin_adv    A     B     C     D     E    F    G    T      n\n",
       "Survived                                                    \n",
       "0          8.0  12.0  24.0   8.0   8.0  5.0  2.0  1.0  481.0\n",
       "1          7.0  35.0  35.0  25.0  24.0  8.0  2.0  NaN  206.0"
      ]
     },
     "execution_count": 12,
     "metadata": {},
     "output_type": "execute_result"
    }
   ],
   "source": [
    "train_data[\"cabin_adv\"] = train_data.Cabin.apply(lambda x: str(x)[0])\n",
    "print(train_data.cabin_adv.value_counts())\n",
    "pd.pivot_table(train_data, index = \"Survived\", columns = \"cabin_adv\", values = \"Name\", aggfunc='count')"
   ]
  },
  {
   "cell_type": "code",
   "execution_count": 13,
   "id": "8f35f9e2",
   "metadata": {
    "execution": {
     "iopub.execute_input": "2023-12-25T17:21:26.431426Z",
     "iopub.status.busy": "2023-12-25T17:21:26.431178Z",
     "iopub.status.idle": "2023-12-25T17:21:26.438559Z",
     "shell.execute_reply": "2023-12-25T17:21:26.437807Z"
    },
    "papermill": {
     "duration": 0.024615,
     "end_time": "2023-12-25T17:21:26.440492",
     "exception": false,
     "start_time": "2023-12-25T17:21:26.415877",
     "status": "completed"
    },
    "tags": []
   },
   "outputs": [],
   "source": [
    "train_data['numeric_ticket'] = train_data.Ticket.apply(lambda x: 1 if x.isnumeric() else 0)\n",
    "train_data['ticket_letters'] = train_data.Ticket.apply(lambda x: \"\".join(x.split(' ')[:-1]).replace('.', '').replace('/','').lower() if len(x.split(' ')[:-1]) > 0 else 0)"
   ]
  },
  {
   "cell_type": "code",
   "execution_count": 14,
   "id": "8f47bc7d",
   "metadata": {
    "execution": {
     "iopub.execute_input": "2023-12-25T17:21:26.470129Z",
     "iopub.status.busy": "2023-12-25T17:21:26.469881Z",
     "iopub.status.idle": "2023-12-25T17:21:26.476084Z",
     "shell.execute_reply": "2023-12-25T17:21:26.475281Z"
    },
    "papermill": {
     "duration": 0.02313,
     "end_time": "2023-12-25T17:21:26.477956",
     "exception": false,
     "start_time": "2023-12-25T17:21:26.454826",
     "status": "completed"
    },
    "tags": []
   },
   "outputs": [
    {
     "data": {
      "text/plain": [
       "numeric_ticket\n",
       "1    661\n",
       "0    230\n",
       "Name: count, dtype: int64"
      ]
     },
     "execution_count": 14,
     "metadata": {},
     "output_type": "execute_result"
    }
   ],
   "source": [
    "train_data['numeric_ticket'].value_counts()"
   ]
  },
  {
   "cell_type": "code",
   "execution_count": 15,
   "id": "b1638a87",
   "metadata": {
    "execution": {
     "iopub.execute_input": "2023-12-25T17:21:26.508114Z",
     "iopub.status.busy": "2023-12-25T17:21:26.507867Z",
     "iopub.status.idle": "2023-12-25T17:21:26.515118Z",
     "shell.execute_reply": "2023-12-25T17:21:26.514278Z"
    },
    "papermill": {
     "duration": 0.024352,
     "end_time": "2023-12-25T17:21:26.516934",
     "exception": false,
     "start_time": "2023-12-25T17:21:26.492582",
     "status": "completed"
    },
    "tags": []
   },
   "outputs": [
    {
     "data": {
      "text/plain": [
       "ticket_letters\n",
       "0          665\n",
       "pc          60\n",
       "ca          41\n",
       "a5          21\n",
       "stono2      18\n",
       "          ... \n",
       "scow         1\n",
       "fa           1\n",
       "sop          1\n",
       "sca4         1\n",
       "casoton      1\n",
       "Name: count, Length: 29, dtype: int64"
      ]
     },
     "execution_count": 15,
     "metadata": {},
     "output_type": "execute_result"
    }
   ],
   "source": [
    "pd.set_option(\"display.max_rows\", 10)\n",
    "train_data['ticket_letters'].value_counts()"
   ]
  },
  {
   "cell_type": "code",
   "execution_count": 16,
   "id": "3555be65",
   "metadata": {
    "execution": {
     "iopub.execute_input": "2023-12-25T17:21:26.546953Z",
     "iopub.status.busy": "2023-12-25T17:21:26.546703Z",
     "iopub.status.idle": "2023-12-25T17:21:26.559374Z",
     "shell.execute_reply": "2023-12-25T17:21:26.558588Z"
    },
    "papermill": {
     "duration": 0.029874,
     "end_time": "2023-12-25T17:21:26.561240",
     "exception": false,
     "start_time": "2023-12-25T17:21:26.531366",
     "status": "completed"
    },
    "tags": []
   },
   "outputs": [
    {
     "data": {
      "text/html": [
       "<div>\n",
       "<style scoped>\n",
       "    .dataframe tbody tr th:only-of-type {\n",
       "        vertical-align: middle;\n",
       "    }\n",
       "\n",
       "    .dataframe tbody tr th {\n",
       "        vertical-align: top;\n",
       "    }\n",
       "\n",
       "    .dataframe thead th {\n",
       "        text-align: right;\n",
       "    }\n",
       "</style>\n",
       "<table border=\"1\" class=\"dataframe\">\n",
       "  <thead>\n",
       "    <tr style=\"text-align: right;\">\n",
       "      <th>numeric_ticket</th>\n",
       "      <th>0</th>\n",
       "      <th>1</th>\n",
       "    </tr>\n",
       "    <tr>\n",
       "      <th>Survived</th>\n",
       "      <th></th>\n",
       "      <th></th>\n",
       "    </tr>\n",
       "  </thead>\n",
       "  <tbody>\n",
       "    <tr>\n",
       "      <th>0</th>\n",
       "      <td>142</td>\n",
       "      <td>407</td>\n",
       "    </tr>\n",
       "    <tr>\n",
       "      <th>1</th>\n",
       "      <td>88</td>\n",
       "      <td>254</td>\n",
       "    </tr>\n",
       "  </tbody>\n",
       "</table>\n",
       "</div>"
      ],
      "text/plain": [
       "numeric_ticket    0    1\n",
       "Survived                \n",
       "0               142  407\n",
       "1                88  254"
      ]
     },
     "execution_count": 16,
     "metadata": {},
     "output_type": "execute_result"
    }
   ],
   "source": [
    "pd.pivot_table(train_data, index =\"Survived\", columns = 'numeric_ticket', values = \"Ticket\", aggfunc = 'count')"
   ]
  },
  {
   "cell_type": "markdown",
   "id": "e87937af",
   "metadata": {
    "papermill": {
     "duration": 0.014612,
     "end_time": "2023-12-25T17:21:26.590580",
     "exception": false,
     "start_time": "2023-12-25T17:21:26.575968",
     "status": "completed"
    },
    "tags": []
   },
   "source": [
    "## Data Preprocessing"
   ]
  },
  {
   "cell_type": "code",
   "execution_count": 17,
   "id": "86d5fc8a",
   "metadata": {
    "execution": {
     "iopub.execute_input": "2023-12-25T17:21:26.621257Z",
     "iopub.status.busy": "2023-12-25T17:21:26.621019Z",
     "iopub.status.idle": "2023-12-25T17:21:26.925240Z",
     "shell.execute_reply": "2023-12-25T17:21:26.924402Z"
    },
    "papermill": {
     "duration": 0.321793,
     "end_time": "2023-12-25T17:21:26.927208",
     "exception": false,
     "start_time": "2023-12-25T17:21:26.605415",
     "status": "completed"
    },
    "tags": []
   },
   "outputs": [
    {
     "data": {
      "text/plain": [
       "(889,)"
      ]
     },
     "execution_count": 17,
     "metadata": {},
     "output_type": "execute_result"
    },
    {
     "data": {
      "image/png": "[encoded data removed]",
      "text/plain": [
       "<Figure size 640x480 with 1 Axes>"
      ]
     },
     "metadata": {},
     "output_type": "display_data"
    }
   ],
   "source": [
    "all_data[\"cabin_multiple\"] = all_data.Cabin.apply(lambda x: 0 if pd.isna(x) else len(x.split(\" \")))\n",
    "all_data['cabin_adv'] = all_data.Cabin.apply(lambda x : str(x)[0])\n",
    "all_data[\"numeric_ticket\"] = all_data.Ticket.apply(lambda x: 1 if x.isnumeric() else 0)\n",
    "\n",
    "all_data.Age = all_data.Age.fillna(train_data.Age.mean())\n",
    "all_data.Fare = all_data.Fare.fillna(train_data.Fare.mean())\n",
    "\n",
    "all_data.dropna(subset=['Embarked'], inplace = True)\n",
    "\n",
    "all_data['norm_fare'] = np.log(all_data.Fare+1)\n",
    "all_data['norm_fare'].hist()\n",
    "\n",
    "all_data.Pclass = all_data.Pclass.astype(str)\n",
    "\n",
    "all_dummies = pd.get_dummies(all_data[['Pclass', 'Sex', 'Age', 'SibSp', 'Parch', 'norm_fare', 'Embarked', 'cabin_adv', 'cabin_multiple', 'numeric_ticket', 'train_test']])\n",
    "X_train = all_dummies[all_dummies.train_test ==1].drop(['train_test'], axis =1)\n",
    "X_test = all_dummies[all_dummies.train_test == 0].drop(['train_test'], axis =1)\n",
    "\n",
    "y_train = all_data[all_data.train_test == 1].Survived\n",
    "y_train.shape"
   ]
  },
  {
   "cell_type": "code",
   "execution_count": 18,
   "id": "702f42ce",
   "metadata": {
    "execution": {
     "iopub.execute_input": "2023-12-25T17:21:26.958645Z",
     "iopub.status.busy": "2023-12-25T17:21:26.958355Z",
     "iopub.status.idle": "2023-12-25T17:21:27.237461Z",
     "shell.execute_reply": "2023-12-25T17:21:27.236582Z"
    },
    "papermill": {
     "duration": 0.296945,
     "end_time": "2023-12-25T17:21:27.239446",
     "exception": false,
     "start_time": "2023-12-25T17:21:26.942501",
     "status": "completed"
    },
    "tags": []
   },
   "outputs": [],
   "source": [
    "#Scale data\n",
    "from sklearn.preprocessing import StandardScaler\n",
    "scale = StandardScaler()\n",
    "all_dummies_scaled = all_dummies.copy()\n",
    "all_dummies_scaled[['Age','SibSp','Parch','norm_fare']]= scale.fit_transform(all_dummies_scaled[['Age','SibSp','Parch','norm_fare']])\n",
    "all_dummies_scaled\n",
    "\n",
    "X_train_scaled = all_dummies_scaled[all_dummies_scaled.train_test == 1].drop(['train_test'], axis =1)\n",
    "X_test_scaled = all_dummies_scaled[all_dummies_scaled.train_test == 0].drop(['train_test'], axis =1)\n",
    "\n",
    "y_train = all_data[all_data.train_test==1].Survived"
   ]
  },
  {
   "cell_type": "markdown",
   "id": "3f7e2e27",
   "metadata": {
    "papermill": {
     "duration": 0.016278,
     "end_time": "2023-12-25T17:21:27.270961",
     "exception": false,
     "start_time": "2023-12-25T17:21:27.254683",
     "status": "completed"
    },
    "tags": []
   },
   "source": [
    "## TrainData analysis using linear algebra"
   ]
  },
  {
   "cell_type": "code",
   "execution_count": 19,
   "id": "29cf6998",
   "metadata": {
    "execution": {
     "iopub.execute_input": "2023-12-25T17:21:27.302342Z",
     "iopub.status.busy": "2023-12-25T17:21:27.302066Z",
     "iopub.status.idle": "2023-12-25T17:21:27.342267Z",
     "shell.execute_reply": "2023-12-25T17:21:27.341602Z"
    },
    "papermill": {
     "duration": 0.058019,
     "end_time": "2023-12-25T17:21:27.344069",
     "exception": false,
     "start_time": "2023-12-25T17:21:27.286050",
     "status": "completed"
    },
    "tags": []
   },
   "outputs": [],
   "source": [
    "data1 = pd.concat([X_train, y_train], axis =1)\n",
    "cov_matrix = data1.cov()\n",
    "cov_matrix = cov_matrix.to_numpy()\n",
    "eigenvalues, eigenvectors = np.linalg.eig(cov_matrix)\n",
    "numpy_array = data1.values\n",
    "\n",
    "transform = eigenvectors[:,:2]\n",
    "\n",
    "\n",
    "new_data = np.dot(numpy_array, transform)\n"
   ]
  },
  {
   "cell_type": "code",
   "execution_count": 20,
   "id": "acd489bf",
   "metadata": {
    "execution": {
     "iopub.execute_input": "2023-12-25T17:21:27.375284Z",
     "iopub.status.busy": "2023-12-25T17:21:27.375024Z",
     "iopub.status.idle": "2023-12-25T17:21:27.648114Z",
     "shell.execute_reply": "2023-12-25T17:21:27.647239Z"
    },
    "papermill": {
     "duration": 0.290822,
     "end_time": "2023-12-25T17:21:27.650003",
     "exception": false,
     "start_time": "2023-12-25T17:21:27.359181",
     "status": "completed"
    },
    "tags": []
   },
   "outputs": [
    {
     "data": {
      "image/png": "[encoded data removed]",
      "text/plain": [
       "<Figure size 640x480 with 1 Axes>"
      ]
     },
     "metadata": {},
     "output_type": "display_data"
    }
   ],
   "source": [
    "#plotting\n",
    "survived_colors = y_train.map({0: 'blue', 1: 'red'})\n",
    "\n",
    "plt.scatter(new_data[:,0], new_data[:,1], c = survived_colors, s = 10)\n",
    "\n",
    "plt.xlabel('Eigenvector 1')\n",
    "plt.ylabel('Eigenvector 2')\n",
    "\n",
    "plt.show()"
   ]
  },
  {
   "cell_type": "markdown",
   "id": "1cbb42a3",
   "metadata": {
    "papermill": {
     "duration": 0.015608,
     "end_time": "2023-12-25T17:21:27.681576",
     "exception": false,
     "start_time": "2023-12-25T17:21:27.665968",
     "status": "completed"
    },
    "tags": []
   },
   "source": [
    "So, we can see some patterns, but anyway, we can't observe any strong distinctions between the data using eigenvectors."
   ]
  },
  {
   "cell_type": "markdown",
   "id": "6e0ac871",
   "metadata": {
    "papermill": {
     "duration": 0.0157,
     "end_time": "2023-12-25T17:21:27.713041",
     "exception": false,
     "start_time": "2023-12-25T17:21:27.697341",
     "status": "completed"
    },
    "tags": []
   },
   "source": [
    "## Model Building\n",
    "Building of svm classifier using pytorch"
   ]
  },
  {
   "cell_type": "code",
   "execution_count": 21,
   "id": "01b29f03",
   "metadata": {
    "execution": {
     "iopub.execute_input": "2023-12-25T17:21:27.745550Z",
     "iopub.status.busy": "2023-12-25T17:21:27.745296Z",
     "iopub.status.idle": "2023-12-25T17:21:28.666307Z",
     "shell.execute_reply": "2023-12-25T17:21:28.665356Z"
    },
    "papermill": {
     "duration": 0.939789,
     "end_time": "2023-12-25T17:21:28.668536",
     "exception": false,
     "start_time": "2023-12-25T17:21:27.728747",
     "status": "completed"
    },
    "tags": []
   },
   "outputs": [],
   "source": [
    "from sklearn.model_selection import cross_val_score\n",
    "from sklearn.svm import SVC\n",
    "from sklearn.linear_model import LogisticRegression\n",
    "from sklearn.pipeline import make_pipeline\n",
    "\n",
    "from xgboost import XGBClassifier\n",
    "from sklearn.ensemble import VotingClassifier"
   ]
  },
  {
   "cell_type": "code",
   "execution_count": 22,
   "id": "802e42a3",
   "metadata": {
    "execution": {
     "iopub.execute_input": "2023-12-25T17:21:28.702528Z",
     "iopub.status.busy": "2023-12-25T17:21:28.702253Z",
     "iopub.status.idle": "2023-12-25T17:21:28.889595Z",
     "shell.execute_reply": "2023-12-25T17:21:28.888606Z"
    },
    "papermill": {
     "duration": 0.20755,
     "end_time": "2023-12-25T17:21:28.892732",
     "exception": false,
     "start_time": "2023-12-25T17:21:28.685182",
     "status": "completed"
    },
    "tags": []
   },
   "outputs": [
    {
     "name": "stdout",
     "output_type": "stream",
     "text": [
      "[0.78089888 0.80337079 0.78089888 0.79775281 0.82485876]\n",
      "0.7975560210753507\n"
     ]
    }
   ],
   "source": [
    "lr = LogisticRegression(max_iter = 2000)\n",
    "cv = cross_val_score(lr, X_train_scaled, y_train, cv=5)\n",
    "print(cv)\n",
    "print(cv.mean())"
   ]
  },
  {
   "cell_type": "code",
   "execution_count": 23,
   "id": "ca35fabd",
   "metadata": {
    "execution": {
     "iopub.execute_input": "2023-12-25T17:21:28.965958Z",
     "iopub.status.busy": "2023-12-25T17:21:28.964829Z",
     "iopub.status.idle": "2023-12-25T17:21:29.540912Z",
     "shell.execute_reply": "2023-12-25T17:21:29.539977Z"
    },
    "papermill": {
     "duration": 0.614878,
     "end_time": "2023-12-25T17:21:29.543274",
     "exception": false,
     "start_time": "2023-12-25T17:21:28.928396",
     "status": "completed"
    },
    "tags": []
   },
   "outputs": [
    {
     "name": "stdout",
     "output_type": "stream",
     "text": [
      "[0.6741573  0.73595506 0.68539326 0.70786517 0.71186441]\n",
      "0.7030470386593028\n"
     ]
    }
   ],
   "source": [
    "svc_clf = SVC(probability = True)\n",
    "cv = cross_val_score(svc_clf, X_train, y_train, cv =5)\n",
    "print(cv)\n",
    "print(cv.mean())"
   ]
  },
  {
   "cell_type": "code",
   "execution_count": 24,
   "id": "bdd9664d",
   "metadata": {
    "execution": {
     "iopub.execute_input": "2023-12-25T17:21:29.595253Z",
     "iopub.status.busy": "2023-12-25T17:21:29.594920Z",
     "iopub.status.idle": "2023-12-25T17:21:31.041333Z",
     "shell.execute_reply": "2023-12-25T17:21:31.040528Z"
    },
    "papermill": {
     "duration": 1.475463,
     "end_time": "2023-12-25T17:21:31.043885",
     "exception": false,
     "start_time": "2023-12-25T17:21:29.568422",
     "status": "completed"
    },
    "tags": []
   },
   "outputs": [
    {
     "name": "stdout",
     "output_type": "stream",
     "text": [
      "[0.7752809  0.80337079 0.85955056 0.79775281 0.82485876]\n",
      "0.8121627626483845\n"
     ]
    }
   ],
   "source": [
    "xgb = XGBClassifier(random_state = 1)\n",
    "cv = cross_val_score(xgb, X_train, y_train, cv =5)\n",
    "print(cv)\n",
    "print(cv.mean())"
   ]
  },
  {
   "cell_type": "code",
   "execution_count": 25,
   "id": "399a774c",
   "metadata": {
    "execution": {
     "iopub.execute_input": "2023-12-25T17:21:31.082837Z",
     "iopub.status.busy": "2023-12-25T17:21:31.082506Z",
     "iopub.status.idle": "2023-12-25T17:21:33.261661Z",
     "shell.execute_reply": "2023-12-25T17:21:33.260633Z"
    },
    "papermill": {
     "duration": 2.199978,
     "end_time": "2023-12-25T17:21:33.263780",
     "exception": false,
     "start_time": "2023-12-25T17:21:31.063802",
     "status": "completed"
    },
    "tags": []
   },
   "outputs": [
    {
     "name": "stdout",
     "output_type": "stream",
     "text": [
      "[0.78089888 0.82022472 0.85393258 0.80337079 0.83615819]\n",
      "0.8189170316765061\n"
     ]
    }
   ],
   "source": [
    "voting_clf = VotingClassifier(estimators =[(\"lr\", lr), (\"xgb\", xgb), (\"svc_clf\", svc_clf)])\n",
    "cv = cross_val_score(voting_clf, X_train, y_train, cv =5)\n",
    "print(cv)\n",
    "print(cv.mean())"
   ]
  },
  {
   "cell_type": "markdown",
   "id": "d104c431",
   "metadata": {
    "papermill": {
     "duration": 0.016561,
     "end_time": "2023-12-25T17:21:33.296956",
     "exception": false,
     "start_time": "2023-12-25T17:21:33.280395",
     "status": "completed"
    },
    "tags": []
   },
   "source": [
    "## Model Tuning"
   ]
  },
  {
   "cell_type": "code",
   "execution_count": 26,
   "id": "9998a7db",
   "metadata": {
    "execution": {
     "iopub.execute_input": "2023-12-25T17:21:33.331033Z",
     "iopub.status.busy": "2023-12-25T17:21:33.330755Z",
     "iopub.status.idle": "2023-12-25T17:21:33.334443Z",
     "shell.execute_reply": "2023-12-25T17:21:33.333632Z"
    },
    "papermill": {
     "duration": 0.023053,
     "end_time": "2023-12-25T17:21:33.336308",
     "exception": false,
     "start_time": "2023-12-25T17:21:33.313255",
     "status": "completed"
    },
    "tags": []
   },
   "outputs": [],
   "source": [
    "from sklearn.model_selection import GridSearchCV\n",
    "from sklearn.model_selection import RandomizedSearchCV"
   ]
  },
  {
   "cell_type": "code",
   "execution_count": 27,
   "id": "0e50510a",
   "metadata": {
    "execution": {
     "iopub.execute_input": "2023-12-25T17:21:33.369792Z",
     "iopub.status.busy": "2023-12-25T17:21:33.369509Z",
     "iopub.status.idle": "2023-12-25T17:21:33.373846Z",
     "shell.execute_reply": "2023-12-25T17:21:33.373033Z"
    },
    "papermill": {
     "duration": 0.023417,
     "end_time": "2023-12-25T17:21:33.376062",
     "exception": false,
     "start_time": "2023-12-25T17:21:33.352645",
     "status": "completed"
    },
    "tags": []
   },
   "outputs": [],
   "source": [
    "def clf_performance(clf, model_name):\n",
    "    print(model_name)\n",
    "    print(\"Best Score \"+ str(clf.best_score_))\n",
    "    print(\"Best Parameters: \"+ str(clf.best_params_))"
   ]
  },
  {
   "cell_type": "code",
   "execution_count": 28,
   "id": "1d7083b8",
   "metadata": {
    "execution": {
     "iopub.execute_input": "2023-12-25T17:21:33.409280Z",
     "iopub.status.busy": "2023-12-25T17:21:33.409038Z",
     "iopub.status.idle": "2023-12-25T17:21:35.992447Z",
     "shell.execute_reply": "2023-12-25T17:21:35.991035Z"
    },
    "papermill": {
     "duration": 2.602549,
     "end_time": "2023-12-25T17:21:35.994790",
     "exception": false,
     "start_time": "2023-12-25T17:21:33.392241",
     "status": "completed"
    },
    "tags": []
   },
   "outputs": [
    {
     "name": "stdout",
     "output_type": "stream",
     "text": [
      "Fitting 5 folds for each of 40 candidates, totalling 200 fits\n"
     ]
    },
    {
     "name": "stderr",
     "output_type": "stream",
     "text": [
      "/opt/conda/lib/python3.10/site-packages/scipy/__init__.py:146: UserWarning: A NumPy version >=1.16.5 and <1.23.0 is required for this version of SciPy (detected version 1.24.3\n",
      "  warnings.warn(f\"A NumPy version >={np_minversion} and <{np_maxversion}\"\n",
      "/opt/conda/lib/python3.10/site-packages/scipy/__init__.py:146: UserWarning: A NumPy version >=1.16.5 and <1.23.0 is required for this version of SciPy (detected version 1.24.3\n",
      "  warnings.warn(f\"A NumPy version >={np_minversion} and <{np_maxversion}\"\n",
      "/opt/conda/lib/python3.10/site-packages/scipy/__init__.py:146: UserWarning: A NumPy version >=1.16.5 and <1.23.0 is required for this version of SciPy (detected version 1.24.3\n",
      "  warnings.warn(f\"A NumPy version >={np_minversion} and <{np_maxversion}\"\n",
      "/opt/conda/lib/python3.10/site-packages/scipy/__init__.py:146: UserWarning: A NumPy version >=1.16.5 and <1.23.0 is required for this version of SciPy (detected version 1.24.3\n",
      "  warnings.warn(f\"A NumPy version >={np_minversion} and <{np_maxversion}\"\n"
     ]
    },
    {
     "name": "stdout",
     "output_type": "stream",
     "text": [
      "Logistic Regression\n",
      "Best Score 0.8009204595949978\n",
      "Best Parameters: {'C': 0.08858667904100824, 'max_iter': 2000, 'penalty': 'l2', 'solver': 'liblinear'}\n"
     ]
    }
   ],
   "source": [
    "lr = LogisticRegression()\n",
    "param_grid = {'max_iter' : [2000],\n",
    "              'penalty' : ['l1', 'l2'],\n",
    "              'C' : np.logspace(-4, 4, 20),\n",
    "              'solver' : ['liblinear']}\n",
    "\n",
    "clf_lr = GridSearchCV(lr, param_grid = param_grid, cv = 5, verbose = True, n_jobs = -1)\n",
    "best_clf_lr = clf_lr.fit(X_train_scaled,y_train)\n",
    "clf_performance(best_clf_lr,'Logistic Regression')"
   ]
  },
  {
   "cell_type": "code",
   "execution_count": 29,
   "id": "c9b2e08c",
   "metadata": {
    "execution": {
     "iopub.execute_input": "2023-12-25T17:21:36.030279Z",
     "iopub.status.busy": "2023-12-25T17:21:36.029502Z",
     "iopub.status.idle": "2023-12-25T17:26:34.905101Z",
     "shell.execute_reply": "2023-12-25T17:26:34.904111Z"
    },
    "papermill": {
     "duration": 298.913884,
     "end_time": "2023-12-25T17:26:34.925740",
     "exception": false,
     "start_time": "2023-12-25T17:21:36.011856",
     "status": "completed"
    },
    "tags": []
   },
   "outputs": [
    {
     "name": "stdout",
     "output_type": "stream",
     "text": [
      "Fitting 5 folds for each of 55 candidates, totalling 275 fits\n",
      "SVC\n",
      "Best Score 0.8223132101821875\n",
      "Best Parameters: {'C': 1, 'degree': 2, 'kernel': 'poly'}\n"
     ]
    }
   ],
   "source": [
    "svc = SVC(probability = True)\n",
    "param_grid = tuned_parameters = [{'kernel': ['rbf'], 'gamma': [.1,.5,1,2,5,10],\n",
    "                                  'C': [.1, 1, 10, 100, 1000]},\n",
    "                                 {'kernel': ['linear'], 'C': [.1, 1, 10, 100, 1000]},\n",
    "                                 {'kernel': ['poly'], 'degree' : [2,3,4,5], 'C': [.1, 1, 10, 100, 1000]}]\n",
    "clf_svc = GridSearchCV(svc, param_grid = param_grid, cv = 5, verbose = True, n_jobs = -1)\n",
    "best_clf_svc = clf_svc.fit(X_train_scaled,y_train)\n",
    "clf_performance(best_clf_svc,'SVC')"
   ]
  },
  {
   "cell_type": "code",
   "execution_count": 30,
   "id": "36aff92d",
   "metadata": {
    "execution": {
     "iopub.execute_input": "2023-12-25T17:26:34.961075Z",
     "iopub.status.busy": "2023-12-25T17:26:34.960764Z",
     "iopub.status.idle": "2023-12-25T17:27:55.825258Z",
     "shell.execute_reply": "2023-12-25T17:27:55.824263Z"
    },
    "papermill": {
     "duration": 80.894051,
     "end_time": "2023-12-25T17:27:55.836718",
     "exception": false,
     "start_time": "2023-12-25T17:26:34.942667",
     "status": "completed"
    },
    "tags": []
   },
   "outputs": [
    {
     "name": "stdout",
     "output_type": "stream",
     "text": [
      "Fitting 5 folds for each of 243 candidates, totalling 1215 fits\n",
      "XGB\n",
      "Best Score 0.8470259633085762\n",
      "Best Parameters: {'colsample_bytree': 0.8, 'gamma': 0.5, 'learning_rate': 0.5, 'max_depth': None, 'min_child_weight': 0.01, 'n_estimators': 550, 'reg_alpha': 1, 'reg_lambda': 5, 'sampling_method': 'uniform', 'subsample': 0.6}\n"
     ]
    }
   ],
   "source": [
    "xgb = XGBClassifier(random_state = 1)\n",
    "\n",
    "param_grid = {\n",
    "    'n_estimators': [450,500,550],\n",
    "    'colsample_bytree': [0.75,0.8,0.85],\n",
    "    'max_depth': [None],\n",
    "    'reg_alpha': [1],\n",
    "    'reg_lambda': [2, 5, 10],\n",
    "    'subsample': [0.55, 0.6, .65],\n",
    "    'learning_rate':[0.5],\n",
    "    'gamma':[.5,1,2],\n",
    "    'min_child_weight':[0.01],\n",
    "    'sampling_method': ['uniform']\n",
    "}\n",
    "\n",
    "clf_xgb = GridSearchCV(xgb, param_grid = param_grid, cv = 5, verbose = True, n_jobs = -1)\n",
    "best_clf_xgb = clf_xgb.fit(X_train_scaled,y_train)\n",
    "clf_performance(best_clf_xgb,'XGB')"
   ]
  },
  {
   "cell_type": "code",
   "execution_count": 31,
   "id": "a943c664",
   "metadata": {
    "execution": {
     "iopub.execute_input": "2023-12-25T17:27:55.871453Z",
     "iopub.status.busy": "2023-12-25T17:27:55.871180Z",
     "iopub.status.idle": "2023-12-25T17:27:58.704948Z",
     "shell.execute_reply": "2023-12-25T17:27:58.703925Z"
    },
    "papermill": {
     "duration": 2.853464,
     "end_time": "2023-12-25T17:27:58.707024",
     "exception": false,
     "start_time": "2023-12-25T17:27:55.853560",
     "status": "completed"
    },
    "tags": []
   },
   "outputs": [
    {
     "name": "stdout",
     "output_type": "stream",
     "text": [
      "0.8279375357074843\n",
      "0.8301720307243065\n"
     ]
    }
   ],
   "source": [
    "best_lr = best_clf_lr.best_estimator_\n",
    "best_svc = best_clf_svc.best_estimator_\n",
    "best_xgb = best_clf_xgb.best_estimator_\n",
    "\n",
    "voting_clf_hard = VotingClassifier(estimators = [(\"lr\", best_lr), (\"svc\", best_svc), (\"xgb\", best_xgb)], voting = 'hard')\n",
    "\n",
    "voting_clf_soft = VotingClassifier(estimators = [(\"lr\", best_lr), (\"svc\", best_svc), (\"xgb\", best_xgb)], voting = 'soft')\n",
    "\n",
    "print(cross_val_score(voting_clf_hard, X_train_scaled, y_train, cv=5).mean())\n",
    "print(cross_val_score(voting_clf_soft, X_train_scaled, y_train, cv=5).mean())"
   ]
  },
  {
   "cell_type": "code",
   "execution_count": 32,
   "id": "111e5cfd",
   "metadata": {
    "execution": {
     "iopub.execute_input": "2023-12-25T17:27:58.744632Z",
     "iopub.status.busy": "2023-12-25T17:27:58.744334Z",
     "iopub.status.idle": "2023-12-25T17:28:08.833346Z",
     "shell.execute_reply": "2023-12-25T17:28:08.832597Z"
    },
    "papermill": {
     "duration": 10.108979,
     "end_time": "2023-12-25T17:28:08.835210",
     "exception": false,
     "start_time": "2023-12-25T17:27:58.726231",
     "status": "completed"
    },
    "tags": []
   },
   "outputs": [
    {
     "name": "stdout",
     "output_type": "stream",
     "text": [
      "VC Weights\n",
      "Best Score 0.8369136037580143\n",
      "Best Parameters: {'weights': [1, 1, 2]}\n"
     ]
    }
   ],
   "source": [
    "params = {'weights' : [[1,1,1],[1,2,1],[1,1,2],[3,1,1],[2,2,1],[1,2,2],[2,1,2]]}\n",
    "\n",
    "vote_weight = GridSearchCV(voting_clf_hard, param_grid = params, cv =5)\n",
    "best_clf_weight =vote_weight.fit(X_train_scaled,y_train)\n",
    "\n",
    "clf_performance(best_clf_weight,'VC Weights')\n",
    "voting_clf_sub = best_clf_weight.best_estimator_"
   ]
  },
  {
   "cell_type": "code",
   "execution_count": 33,
   "id": "7fde9866",
   "metadata": {
    "execution": {
     "iopub.execute_input": "2023-12-25T17:28:08.871884Z",
     "iopub.status.busy": "2023-12-25T17:28:08.871579Z",
     "iopub.status.idle": "2023-12-25T17:28:09.250513Z",
     "shell.execute_reply": "2023-12-25T17:28:09.249139Z"
    },
    "papermill": {
     "duration": 0.399141,
     "end_time": "2023-12-25T17:28:09.252800",
     "exception": false,
     "start_time": "2023-12-25T17:28:08.853659",
     "status": "completed"
    },
    "tags": []
   },
   "outputs": [],
   "source": [
    "#making predictions\n",
    "voting_clf_soft.fit(X_train_scaled, y_train)\n",
    "\n",
    "y_xgb = best_xgb.predict(X_test_scaled).astype(int)\n",
    "\n",
    "y_hat_vc_soft = voting_clf_soft.predict(X_test_scaled).astype(int)\n",
    "\n",
    "y_hat_vc_sub=voting_clf_sub.predict(X_test_scaled).astype(int)\n"
   ]
  },
  {
   "cell_type": "code",
   "execution_count": 34,
   "id": "3a616d79",
   "metadata": {
    "execution": {
     "iopub.execute_input": "2023-12-25T17:28:09.333095Z",
     "iopub.status.busy": "2023-12-25T17:28:09.332556Z",
     "iopub.status.idle": "2023-12-25T17:28:09.338408Z",
     "shell.execute_reply": "2023-12-25T17:28:09.337312Z"
    },
    "papermill": {
     "duration": 0.047706,
     "end_time": "2023-12-25T17:28:09.341435",
     "exception": false,
     "start_time": "2023-12-25T17:28:09.293729",
     "status": "completed"
    },
    "tags": []
   },
   "outputs": [],
   "source": [
    "# final_data0 ={'PassengerId': test_data.PassengerId,\"survived\":y_xgb}\n",
    "# submission0 = pd.DataFrame(data=final_data0)\n",
    "\n",
    "# final_data1 ={'PassengerId': test_data.PassengerId,\"survived\":y_hat_vc_soft}\n",
    "# submission1 = pd.DataFrame(data=final_data1)\n",
    "\n",
    "# final_data2 ={'PassengerId': test_data.PassengerId,\"survived\":y_hat_vc_sub}\n",
    "# submission2 = pd.DataFrame(data=final_data2)"
   ]
  },
  {
   "cell_type": "code",
   "execution_count": null,
   "id": "55642016",
   "metadata": {
    "papermill": {
     "duration": 0.01673,
     "end_time": "2023-12-25T17:28:09.382620",
     "exception": false,
     "start_time": "2023-12-25T17:28:09.365890",
     "status": "completed"
    },
    "tags": []
   },
   "outputs": [],
   "source": []
  },
  {
   "cell_type": "code",
   "execution_count": null,
   "id": "97d0e354",
   "metadata": {
    "papermill": {
     "duration": 0.016909,
     "end_time": "2023-12-25T17:28:09.416325",
     "exception": false,
     "start_time": "2023-12-25T17:28:09.399416",
     "status": "completed"
    },
    "tags": []
   },
   "outputs": [],
   "source": []
  }
 ],
 "metadata": {
  "kaggle": {
   "accelerator": "nvidiaTeslaT4",
   "dataSources": [
    {
     "databundleVersionId": 26502,
     "sourceId": 3136,
     "sourceType": "competition"
    }
   ],
   "dockerImageVersionId": 30626,
   "isGpuEnabled": true,
   "isInternetEnabled": true,
   "language": "python",
   "sourceType": "notebook"
  },
  "kernelspec": {
   "display_name": "Python 3",
   "language": "python",
   "name": "python3"
  },
  "language_info": {
   "codemirror_mode": {
    "name": "ipython",
    "version": 3
   },
   "file_extension": ".py",
   "mimetype": "text/x-python",
   "name": "python",
   "nbconvert_exporter": "python",
   "pygments_lexer": "ipython3",
   "version": "3.10.12"
  },
  "papermill": {
   "default_parameters": {},
   "duration": 427.729297,
   "end_time": "2023-12-25T17:28:12.052904",
   "environment_variables": {},
   "exception": null,
   "input_path": "__notebook__.ipynb",
   "output_path": "__notebook__.ipynb",
   "parameters": {},
   "start_time": "2023-12-25T17:21:04.323607",
   "version": "2.4.0"
  }
 },
 "nbformat": 4,
 "nbformat_minor": 5
}
